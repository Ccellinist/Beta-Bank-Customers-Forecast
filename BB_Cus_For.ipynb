{
 "cells": [
  {
   "cell_type": "markdown",
   "metadata": {},
   "source": [
    "# <b>Meta Bank</b> Predicción de clientes que se irán"
   ]
  },
  {
   "cell_type": "markdown",
   "metadata": {},
   "source": [
    "# <b>Paso 1</b> - Preparar los Datos"
   ]
  },
  {
   "cell_type": "markdown",
   "metadata": {},
   "source": [
    "### <b>1.1</b> - Importar librerias y métodos necesarios"
   ]
  },
  {
   "cell_type": "code",
   "execution_count": 6,
   "metadata": {},
   "outputs": [],
   "source": [
    "import pandas as pd\n",
    "# from sklearn.linear_model import LogisticRegression # no me dio los mejores resultados\n",
    "from sklearn.ensemble import RandomForestClassifier\n",
    "from sklearn.metrics import recall_score, precision_score\n",
    "from sklearn.metrics import f1_score\n",
    "from sklearn.metrics import roc_auc_score\n",
    "from sklearn.model_selection import train_test_split\n",
    "from sklearn.utils import shuffle\n",
    "from sklearn.preprocessing import StandardScaler"
   ]
  },
  {
   "cell_type": "markdown",
   "metadata": {},
   "source": [
    "### <b>1.2</b> - Importar datos"
   ]
  },
  {
   "cell_type": "code",
   "execution_count": 7,
   "metadata": {},
   "outputs": [],
   "source": [
    "data = pd.read_csv('Churn.csv')"
   ]
  },
  {
   "cell_type": "markdown",
   "metadata": {},
   "source": [
    "### <b>1.3</b> - Exploración inicial de los datos"
   ]
  },
  {
   "cell_type": "code",
   "execution_count": 8,
   "metadata": {},
   "outputs": [
    {
     "name": "stdout",
     "output_type": "stream",
     "text": [
      "<class 'pandas.core.frame.DataFrame'>\n",
      "RangeIndex: 10000 entries, 0 to 9999\n",
      "Data columns (total 14 columns):\n",
      " #   Column           Non-Null Count  Dtype  \n",
      "---  ------           --------------  -----  \n",
      " 0   RowNumber        10000 non-null  int64  \n",
      " 1   CustomerId       10000 non-null  int64  \n",
      " 2   Surname          10000 non-null  object \n",
      " 3   CreditScore      10000 non-null  int64  \n",
      " 4   Geography        10000 non-null  object \n",
      " 5   Gender           10000 non-null  object \n",
      " 6   Age              10000 non-null  int64  \n",
      " 7   Tenure           9091 non-null   float64\n",
      " 8   Balance          10000 non-null  float64\n",
      " 9   NumOfProducts    10000 non-null  int64  \n",
      " 10  HasCrCard        10000 non-null  int64  \n",
      " 11  IsActiveMember   10000 non-null  int64  \n",
      " 12  EstimatedSalary  10000 non-null  float64\n",
      " 13  Exited           10000 non-null  int64  \n",
      "dtypes: float64(3), int64(8), object(3)\n",
      "memory usage: 1.1+ MB\n"
     ]
    }
   ],
   "source": [
    "data.info()"
   ]
  },
  {
   "cell_type": "code",
   "execution_count": 9,
   "metadata": {},
   "outputs": [
    {
     "data": {
      "text/html": [
       "<div>\n",
       "<style scoped>\n",
       "    .dataframe tbody tr th:only-of-type {\n",
       "        vertical-align: middle;\n",
       "    }\n",
       "\n",
       "    .dataframe tbody tr th {\n",
       "        vertical-align: top;\n",
       "    }\n",
       "\n",
       "    .dataframe thead th {\n",
       "        text-align: right;\n",
       "    }\n",
       "</style>\n",
       "<table border=\"1\" class=\"dataframe\">\n",
       "  <thead>\n",
       "    <tr style=\"text-align: right;\">\n",
       "      <th></th>\n",
       "      <th>RowNumber</th>\n",
       "      <th>CustomerId</th>\n",
       "      <th>Surname</th>\n",
       "      <th>CreditScore</th>\n",
       "      <th>Geography</th>\n",
       "      <th>Gender</th>\n",
       "      <th>Age</th>\n",
       "      <th>Tenure</th>\n",
       "      <th>Balance</th>\n",
       "      <th>NumOfProducts</th>\n",
       "      <th>HasCrCard</th>\n",
       "      <th>IsActiveMember</th>\n",
       "      <th>EstimatedSalary</th>\n",
       "      <th>Exited</th>\n",
       "    </tr>\n",
       "  </thead>\n",
       "  <tbody>\n",
       "    <tr>\n",
       "      <th>0</th>\n",
       "      <td>1</td>\n",
       "      <td>15634602</td>\n",
       "      <td>Hargrave</td>\n",
       "      <td>619</td>\n",
       "      <td>France</td>\n",
       "      <td>Female</td>\n",
       "      <td>42</td>\n",
       "      <td>2.0</td>\n",
       "      <td>0.00</td>\n",
       "      <td>1</td>\n",
       "      <td>1</td>\n",
       "      <td>1</td>\n",
       "      <td>101348.88</td>\n",
       "      <td>1</td>\n",
       "    </tr>\n",
       "    <tr>\n",
       "      <th>1</th>\n",
       "      <td>2</td>\n",
       "      <td>15647311</td>\n",
       "      <td>Hill</td>\n",
       "      <td>608</td>\n",
       "      <td>Spain</td>\n",
       "      <td>Female</td>\n",
       "      <td>41</td>\n",
       "      <td>1.0</td>\n",
       "      <td>83807.86</td>\n",
       "      <td>1</td>\n",
       "      <td>0</td>\n",
       "      <td>1</td>\n",
       "      <td>112542.58</td>\n",
       "      <td>0</td>\n",
       "    </tr>\n",
       "    <tr>\n",
       "      <th>2</th>\n",
       "      <td>3</td>\n",
       "      <td>15619304</td>\n",
       "      <td>Onio</td>\n",
       "      <td>502</td>\n",
       "      <td>France</td>\n",
       "      <td>Female</td>\n",
       "      <td>42</td>\n",
       "      <td>8.0</td>\n",
       "      <td>159660.80</td>\n",
       "      <td>3</td>\n",
       "      <td>1</td>\n",
       "      <td>0</td>\n",
       "      <td>113931.57</td>\n",
       "      <td>1</td>\n",
       "    </tr>\n",
       "  </tbody>\n",
       "</table>\n",
       "</div>"
      ],
      "text/plain": [
       "   RowNumber  CustomerId   Surname  CreditScore Geography  Gender  Age  \\\n",
       "0          1    15634602  Hargrave          619    France  Female   42   \n",
       "1          2    15647311      Hill          608     Spain  Female   41   \n",
       "2          3    15619304      Onio          502    France  Female   42   \n",
       "\n",
       "   Tenure    Balance  NumOfProducts  HasCrCard  IsActiveMember  \\\n",
       "0     2.0       0.00              1          1               1   \n",
       "1     1.0   83807.86              1          0               1   \n",
       "2     8.0  159660.80              3          1               0   \n",
       "\n",
       "   EstimatedSalary  Exited  \n",
       "0        101348.88       1  \n",
       "1        112542.58       0  \n",
       "2        113931.57       1  "
      ]
     },
     "execution_count": 9,
     "metadata": {},
     "output_type": "execute_result"
    }
   ],
   "source": [
    "data.head(3)"
   ]
  },
  {
   "cell_type": "markdown",
   "metadata": {},
   "source": [
    "> <b>Observaciones</b><br>\n",
    "* Las primeras 2 filas no aportan información útil\n",
    "* Surname es una columna categórica con alta cardinalidad que puede descartarse\n",
    "* Geography y Gender son columnas que deberan usar OHE\n",
    "* CreditSCore, Balance y EstimatedSalary son columnas que podrían escalarse\n",
    "* Tenure tiene alrededor de un 10% de valores nulos"
   ]
  },
  {
   "cell_type": "markdown",
   "metadata": {},
   "source": [
    "### <b>1.4</b> - Eliminar caracteristicas sin información útil"
   ]
  },
  {
   "cell_type": "code",
   "execution_count": 10,
   "metadata": {},
   "outputs": [],
   "source": [
    "data = data.drop(columns=['RowNumber', 'CustomerId', 'Surname'])"
   ]
  },
  {
   "cell_type": "markdown",
   "metadata": {},
   "source": [
    "### <b>1.5</b> - Codificación OHE"
   ]
  },
  {
   "cell_type": "code",
   "execution_count": 11,
   "metadata": {},
   "outputs": [],
   "source": [
    "characteristics = ['Geography', 'Gender']\n",
    "data = pd.get_dummies(data, columns=characteristics, drop_first=True)\n",
    "# reorganizar columnas\n",
    "data = data[['CreditScore', 'Geography_Germany', 'Geography_Spain', 'Gender_Male', 'Age', 'Tenure', 'Balance', 'NumOfProducts', 'HasCrCard', 'IsActiveMember', 'EstimatedSalary', 'Exited']]\n",
    "# transformar de tipo bool a tipo int\n",
    "booleans = ['Geography_Germany', 'Geography_Spain', 'Gender_Male']\n",
    "for col in booleans:\n",
    "    data[col] = data[col].astype(int)"
   ]
  },
  {
   "cell_type": "markdown",
   "metadata": {},
   "source": [
    "# <b>Paso 2</b> - Estudio del equilibrio de clases"
   ]
  },
  {
   "cell_type": "markdown",
   "metadata": {},
   "source": [
    "### <b>2.1</b> - Visualizar equilibrio"
   ]
  },
  {
   "cell_type": "code",
   "execution_count": 12,
   "metadata": {},
   "outputs": [
    {
     "name": "stdout",
     "output_type": "stream",
     "text": [
      "0.25580811252040686\n"
     ]
    }
   ],
   "source": [
    "# Balance del dataset completo\n",
    "Exit_bal = data.groupby('Exited')['Age'].count()\n",
    "print(Exit_bal[1]/Exit_bal[0])"
   ]
  },
  {
   "cell_type": "markdown",
   "metadata": {},
   "source": [
    "> Las clases estan desbalanceadas 4 A 1, es decir, por cada 5 observaciones 4 son de clientes que no cancelaron y 1 de un cliente que canceló, esto quiere decier que tenemos un desequilibrio en las clases, lo que puede afectar el entrenamiento del modelo"
   ]
  },
  {
   "cell_type": "code",
   "execution_count": 13,
   "metadata": {},
   "outputs": [
    {
     "name": "stdout",
     "output_type": "stream",
     "text": [
      "0.25206611570247933\n"
     ]
    }
   ],
   "source": [
    "# Balance de los datos con valor nulo en Tenure\n",
    "tenure_null = data[data['Tenure'].isna()]\n",
    "tenure_null = tenure_null.groupby('Exited')['Age'].count()\n",
    "print(tenure_null[1]/tenure_null[0])"
   ]
  },
  {
   "cell_type": "markdown",
   "metadata": {},
   "source": [
    "> Las proporciones de los datos que tienen un valor ausente en tenure son igualmente proporcionales que en el dataset entero, por que que por esta razon optare en este caso por eliminar las columnas con NaN en Tenure"
   ]
  },
  {
   "cell_type": "code",
   "execution_count": 14,
   "metadata": {},
   "outputs": [
    {
     "name": "stdout",
     "output_type": "stream",
     "text": [
      "0.2561835014508774\n"
     ]
    }
   ],
   "source": [
    "# Balance después de haber removido los valores nulos de Tenure\n",
    "data = data.dropna()\n",
    "Exit_bal = data.groupby('Exited')['Age'].count()\n",
    "print(Exit_bal[1]/Exit_bal[0])"
   ]
  },
  {
   "cell_type": "markdown",
   "metadata": {},
   "source": [
    "# <b>Paso 3</b> - Entrenamiento del modelo"
   ]
  },
  {
   "cell_type": "markdown",
   "metadata": {},
   "source": [
    "    En este caso el modelo se entrenará con los datos preparados pero no en su forma más óptima"
   ]
  },
  {
   "cell_type": "markdown",
   "metadata": {},
   "source": [
    "### <b>3.1</b> - Separación de los datos"
   ]
  },
  {
   "cell_type": "code",
   "execution_count": 15,
   "metadata": {},
   "outputs": [],
   "source": [
    "# Separacion de ambos conjuntos\n",
    "temp, valid = train_test_split(data, test_size=20/100, random_state=1)\n",
    "train, test = train_test_split(data, test_size=25/100, random_state=1)\n",
    "\n",
    "# Separacion de caracteristicas y objetivos\n",
    "train_feat = train.drop(columns='Exited')\n",
    "train_targ = train['Exited']\n",
    "valid_feat = valid.drop(columns='Exited')\n",
    "valid_targ = valid['Exited']\n",
    "test_feat = test.drop(columns='Exited')\n",
    "test_targ = test['Exited']"
   ]
  },
  {
   "cell_type": "markdown",
   "metadata": {},
   "source": [
    "### <b>3.2</b> - Entrenamiento del modelo"
   ]
  },
  {
   "cell_type": "code",
   "execution_count": 16,
   "metadata": {},
   "outputs": [
    {
     "data": {
      "text/plain": [
       "RandomForestClassifier(random_state=1)"
      ]
     },
     "execution_count": 16,
     "metadata": {},
     "output_type": "execute_result"
    }
   ],
   "source": [
    "# crear instancia del modelo\n",
    "model = RandomForestClassifier(random_state=1)\n",
    "# entrenamiento del modelo\n",
    "model.fit(train_feat, train_targ)"
   ]
  },
  {
   "cell_type": "markdown",
   "metadata": {},
   "source": [
    "### <b>3.3</b> - Validación del modelo"
   ]
  },
  {
   "cell_type": "code",
   "execution_count": 17,
   "metadata": {},
   "outputs": [],
   "source": [
    "def model_validation(model, train_feat, train_targ, valid_feat, valid_targ, decimals=5):\n",
    "    \"\"\"Funcion que calcula varias metricas para un modelo, para dos conjuntos (train y valid)\"\"\"\n",
    "    \n",
    "    train_pred = model.predict(train_feat)\n",
    "    valid_pred = model.predict(valid_feat)\n",
    "    pot = model.predict_proba(train_feat)[:, 1] # Probabilities One Train\n",
    "    pov = model.predict_proba(valid_feat)[:, 1] # Probabilities One Valid\n",
    "    \n",
    "    train_recall = round(recall_score(train_targ, train_pred), decimals)\n",
    "    train_presi = round(precision_score(train_targ, train_pred), decimals)\n",
    "    train_f1 = round(f1_score(train_targ, train_pred), decimals)\n",
    "    train_ROC = round(roc_auc_score(train_targ, pot), decimals)\n",
    "    valid_recall = round(recall_score(valid_targ, valid_pred), decimals)\n",
    "    valid_presi = round(precision_score(valid_targ, valid_pred), decimals)\n",
    "    valid_f1 = round(f1_score(valid_targ, valid_pred), decimals)\n",
    "    valid_ROC = round(roc_auc_score(valid_targ, pov), decimals)\n",
    "        \n",
    "    data = {'train':[train_recall, train_presi, train_f1, train_ROC],\n",
    "            'valid':[valid_recall, valid_presi, valid_f1, valid_ROC]}\n",
    "    df = pd.DataFrame(data, index=['recall', 'presision', 'f1', 'roc'])\n",
    "    \n",
    "    return df"
   ]
  },
  {
   "cell_type": "code",
   "execution_count": 18,
   "metadata": {},
   "outputs": [
    {
     "data": {
      "text/html": [
       "<div>\n",
       "<style scoped>\n",
       "    .dataframe tbody tr th:only-of-type {\n",
       "        vertical-align: middle;\n",
       "    }\n",
       "\n",
       "    .dataframe tbody tr th {\n",
       "        vertical-align: top;\n",
       "    }\n",
       "\n",
       "    .dataframe thead th {\n",
       "        text-align: right;\n",
       "    }\n",
       "</style>\n",
       "<table border=\"1\" class=\"dataframe\">\n",
       "  <thead>\n",
       "    <tr style=\"text-align: right;\">\n",
       "      <th></th>\n",
       "      <th>train</th>\n",
       "      <th>valid</th>\n",
       "    </tr>\n",
       "  </thead>\n",
       "  <tbody>\n",
       "    <tr>\n",
       "      <th>recall</th>\n",
       "      <td>1.0</td>\n",
       "      <td>0.45225</td>\n",
       "    </tr>\n",
       "    <tr>\n",
       "      <th>presision</th>\n",
       "      <td>1.0</td>\n",
       "      <td>0.74194</td>\n",
       "    </tr>\n",
       "    <tr>\n",
       "      <th>f1</th>\n",
       "      <td>1.0</td>\n",
       "      <td>0.56195</td>\n",
       "    </tr>\n",
       "    <tr>\n",
       "      <th>roc</th>\n",
       "      <td>1.0</td>\n",
       "      <td>0.85459</td>\n",
       "    </tr>\n",
       "  </tbody>\n",
       "</table>\n",
       "</div>"
      ],
      "text/plain": [
       "           train    valid\n",
       "recall       1.0  0.45225\n",
       "presision    1.0  0.74194\n",
       "f1           1.0  0.56195\n",
       "roc          1.0  0.85459"
      ]
     },
     "execution_count": 18,
     "metadata": {},
     "output_type": "execute_result"
    }
   ],
   "source": [
    "model_validation(model, train_feat, train_targ, valid_feat, valid_targ)"
   ]
  },
  {
   "cell_type": "markdown",
   "metadata": {},
   "source": [
    "#### Basándome en estas métricas puedo decir que el modelo:\n",
    "* Tiene un recal bajo lo que indíca que no esta reconociendo gran parte de las observaciones positivas\n",
    "* Tiene una presición media lo que significa que no está exagerando el reconocimiento de la clase positiva\n",
    "* Los puntajes no son similares tanto para train como para valid, por ende, está sobreajustado.\n",
    "* En general no es bueno y aparentemente la aleatoreidad sería mejor\n",
    "* Sin embargo el puntaje ROC esta por encima de 0.5 lo que indica que sí es mejor que la simple aleatoreidad"
   ]
  },
  {
   "cell_type": "markdown",
   "metadata": {},
   "source": [
    "# <b>Paso 4</b> - Mejora del modelo"
   ]
  },
  {
   "cell_type": "markdown",
   "metadata": {},
   "source": [
    "### <b>4.1</b> - Funcion para sobremuestrear"
   ]
  },
  {
   "cell_type": "code",
   "execution_count": 19,
   "metadata": {},
   "outputs": [],
   "source": [
    "def upsample(features, target, repetitions):\n",
    "    \"\"\"Funcion que agrega repeticiones de valores en la clase positiva\"\"\"\n",
    "\n",
    "    feat_0 = features[target == 0]\n",
    "    feat_1 = features[target == 1]\n",
    "    targ_0 = target[target == 0]\n",
    "    targ_1 = target[target == 1]\n",
    "    \n",
    "    feat_up = pd.concat([feat_0] + [feat_1] * repetitions)\n",
    "    targ_up = pd.concat([targ_0] + [targ_1] * repetitions)\n",
    "    \n",
    "    feat_up, targ_up = shuffle(feat_up, targ_up, random_state=1)\n",
    "    \n",
    "    return feat_up, targ_up"
   ]
  },
  {
   "cell_type": "markdown",
   "metadata": {},
   "source": [
    "### <b>4.2</b> - Sobremuestreo de clase positiva"
   ]
  },
  {
   "cell_type": "markdown",
   "metadata": {},
   "source": [
    "> En un principio el sobremuestreo dio buenos resultados pero los modelos no pudieron rebasar más de 0.59 en el puntaje f1<br>\n",
    "> y por esta razón el codigo a continuación está comentado\n",
    "> mas adelante hay un fragmento de código comentado que usé para encontrar el mejor sobremuestreo y le mejor submuestreo, tal código arrojó que, no sobremuestrear, era mejor"
   ]
  },
  {
   "cell_type": "code",
   "execution_count": 20,
   "metadata": {},
   "outputs": [],
   "source": [
    "# train_feat_up, train_targ_up = upsample(train_feat, train_targ, 2)\n",
    "# print(len(train_targ_up[train_targ_up == 0]), len(train_targ_up[train_targ_up == 1]))\n",
    "# model = RandomForestClassifier(random_state=1)\n",
    "# model.fit(train_feat_up, train_targ_up)\n",
    "# model_validation(model, train_feat_up, train_targ_up, valid_feat, valid_targ)"
   ]
  },
  {
   "cell_type": "markdown",
   "metadata": {},
   "source": [
    "### <b>4.3</b> - Funcion para submuestrear"
   ]
  },
  {
   "cell_type": "code",
   "execution_count": 21,
   "metadata": {},
   "outputs": [],
   "source": [
    "def downsample(features, target, fraction):\n",
    "    \"\"\"Funcion que agrega repeticiones de valores en la clase positiva\"\"\"\n",
    "\n",
    "    feat_0 = features[target == 0]\n",
    "    feat_1 = features[target == 1]\n",
    "    targ_0 = target[target == 0]\n",
    "    targ_1 = target[target == 1]\n",
    "    \n",
    "    feat_dn = pd.concat([feat_0.sample(frac=fraction, random_state=1)] + [feat_1])\n",
    "    targ_dn = pd.concat([targ_0.sample(frac=fraction, random_state=1)] + [targ_1])\n",
    "    \n",
    "    feat_dn, targ_dn = shuffle(feat_dn, targ_dn, random_state=1)\n",
    "    \n",
    "    return feat_dn, targ_dn"
   ]
  },
  {
   "cell_type": "markdown",
   "metadata": {},
   "source": [
    "### <b>4.4</b> - Submuestreo de clase negativa"
   ]
  },
  {
   "cell_type": "code",
   "execution_count": 22,
   "metadata": {},
   "outputs": [
    {
     "name": "stdout",
     "output_type": "stream",
     "text": [
      "3194 1405\n"
     ]
    }
   ],
   "source": [
    "train_feat_bal, train_targ_bal = downsample(train_feat, train_targ, fraction=0.59)\n",
    "print(len(train_targ_bal[train_targ_bal == 0]), len(train_targ_bal[train_targ_bal == 1]))"
   ]
  },
  {
   "cell_type": "code",
   "execution_count": 23,
   "metadata": {},
   "outputs": [
    {
     "data": {
      "text/html": [
       "<div>\n",
       "<style scoped>\n",
       "    .dataframe tbody tr th:only-of-type {\n",
       "        vertical-align: middle;\n",
       "    }\n",
       "\n",
       "    .dataframe tbody tr th {\n",
       "        vertical-align: top;\n",
       "    }\n",
       "\n",
       "    .dataframe thead th {\n",
       "        text-align: right;\n",
       "    }\n",
       "</style>\n",
       "<table border=\"1\" class=\"dataframe\">\n",
       "  <thead>\n",
       "    <tr style=\"text-align: right;\">\n",
       "      <th></th>\n",
       "      <th>train</th>\n",
       "      <th>valid</th>\n",
       "    </tr>\n",
       "  </thead>\n",
       "  <tbody>\n",
       "    <tr>\n",
       "      <th>recall</th>\n",
       "      <td>1.0</td>\n",
       "      <td>0.54494</td>\n",
       "    </tr>\n",
       "    <tr>\n",
       "      <th>presision</th>\n",
       "      <td>1.0</td>\n",
       "      <td>0.62783</td>\n",
       "    </tr>\n",
       "    <tr>\n",
       "      <th>f1</th>\n",
       "      <td>1.0</td>\n",
       "      <td>0.58346</td>\n",
       "    </tr>\n",
       "    <tr>\n",
       "      <th>roc</th>\n",
       "      <td>1.0</td>\n",
       "      <td>0.85180</td>\n",
       "    </tr>\n",
       "  </tbody>\n",
       "</table>\n",
       "</div>"
      ],
      "text/plain": [
       "           train    valid\n",
       "recall       1.0  0.54494\n",
       "presision    1.0  0.62783\n",
       "f1           1.0  0.58346\n",
       "roc          1.0  0.85180"
      ]
     },
     "execution_count": 23,
     "metadata": {},
     "output_type": "execute_result"
    }
   ],
   "source": [
    "model = RandomForestClassifier(random_state=1)\n",
    "model.fit(train_feat_bal, train_targ_bal)\n",
    "model_validation(model, train_feat_bal, train_targ_bal, valid_feat, valid_targ)"
   ]
  },
  {
   "cell_type": "markdown",
   "metadata": {},
   "source": [
    "> Las métricas indican que el modelo mejoró"
   ]
  },
  {
   "cell_type": "markdown",
   "metadata": {},
   "source": [
    "### <b>4.5</b> - Escalado de caracteristicas"
   ]
  },
  {
   "cell_type": "code",
   "execution_count": 24,
   "metadata": {},
   "outputs": [],
   "source": [
    "bigNums = ['CreditScore', 'Balance', 'EstimatedSalary']\n",
    "\n",
    "scaler = StandardScaler()\n",
    "scaler.fit(train_feat_bal[bigNums])\n",
    "\n",
    "train_feat_bal[bigNums] = scaler.transform(train_feat_bal[bigNums])\n",
    "valid_feat[bigNums] = scaler.transform(valid_feat[bigNums])"
   ]
  },
  {
   "cell_type": "code",
   "execution_count": 25,
   "metadata": {},
   "outputs": [
    {
     "data": {
      "text/html": [
       "<div>\n",
       "<style scoped>\n",
       "    .dataframe tbody tr th:only-of-type {\n",
       "        vertical-align: middle;\n",
       "    }\n",
       "\n",
       "    .dataframe tbody tr th {\n",
       "        vertical-align: top;\n",
       "    }\n",
       "\n",
       "    .dataframe thead th {\n",
       "        text-align: right;\n",
       "    }\n",
       "</style>\n",
       "<table border=\"1\" class=\"dataframe\">\n",
       "  <thead>\n",
       "    <tr style=\"text-align: right;\">\n",
       "      <th></th>\n",
       "      <th>train</th>\n",
       "      <th>valid</th>\n",
       "    </tr>\n",
       "  </thead>\n",
       "  <tbody>\n",
       "    <tr>\n",
       "      <th>recall</th>\n",
       "      <td>1.0</td>\n",
       "      <td>0.54494</td>\n",
       "    </tr>\n",
       "    <tr>\n",
       "      <th>presision</th>\n",
       "      <td>1.0</td>\n",
       "      <td>0.62783</td>\n",
       "    </tr>\n",
       "    <tr>\n",
       "      <th>f1</th>\n",
       "      <td>1.0</td>\n",
       "      <td>0.58346</td>\n",
       "    </tr>\n",
       "    <tr>\n",
       "      <th>roc</th>\n",
       "      <td>1.0</td>\n",
       "      <td>0.85158</td>\n",
       "    </tr>\n",
       "  </tbody>\n",
       "</table>\n",
       "</div>"
      ],
      "text/plain": [
       "           train    valid\n",
       "recall       1.0  0.54494\n",
       "presision    1.0  0.62783\n",
       "f1           1.0  0.58346\n",
       "roc          1.0  0.85158"
      ]
     },
     "execution_count": 25,
     "metadata": {},
     "output_type": "execute_result"
    }
   ],
   "source": [
    "model = RandomForestClassifier(random_state=1)\n",
    "model.fit(train_feat_bal, train_targ_bal)\n",
    "model_validation(model, train_feat_bal, train_targ_bal, valid_feat, valid_targ)"
   ]
  },
  {
   "cell_type": "markdown",
   "metadata": {},
   "source": [
    "> En este caso parece que el escalado de caracteristicas no afectó casi nada pero despues de varias pruebas encontré que sí ayuda en la prueba final."
   ]
  },
  {
   "cell_type": "markdown",
   "metadata": {},
   "source": [
    "### <b>4.6</b> - Encontrar las mejores modificaciones para el dataset"
   ]
  },
  {
   "cell_type": "code",
   "execution_count": 26,
   "metadata": {},
   "outputs": [
    {
     "name": "stdout",
     "output_type": "stream",
     "text": [
      "\n"
     ]
    }
   ],
   "source": [
    "# este fragmento de código puede tomar un tiempo considerable\n",
    "\"\"\"\n",
    "best_upscale = 0 # 1\n",
    "best_downscale = 0 # 0.59\n",
    "best_f1 = 0\n",
    "\n",
    "train_best, valid_best = train_test_split(data, random_state=1, test_size=0.25)\n",
    "train_best_feat = train_best.drop(columns='Exited')\n",
    "train_best_targ = train_best['Exited']\n",
    "valid_best_feat = valid_best.drop(columns='Exited')\n",
    "valid_best_targ = valid_best['Exited']\n",
    "train_best_feat[bigNums] = scaler.transform(train_best_feat[bigNums])\n",
    "valid_best_feat[bigNums] = scaler.transform(valid_best_feat[bigNums])\n",
    "\n",
    "for ups in range (1, 3):\n",
    "    for down in range(1, 100, 1):\n",
    "        tbf = train_best_feat.copy()\n",
    "        tbt = train_best_targ.copy()\n",
    "        vbf = valid_best_feat.copy()\n",
    "        vbt = valid_best_targ.copy()\n",
    "        # upsample\n",
    "        tbf, tbt = upsample(tbf, tbt, ups)\n",
    "        # downsample\n",
    "        tbf, tbt = downsample(tbf, tbt, down/100)\n",
    "        # train\n",
    "        model = RandomForestClassifier(random_state=1)\n",
    "        model.fit(tbf, tbt)\n",
    "        result = model_validation(model, tbf, tbt, vbf, vbt)\n",
    "        \n",
    "        print(ups, down, result['valid']['f1'])\n",
    "        if result['valid']['f1'] > best_f1:\n",
    "            best_f1 = result['valid']['f1']\n",
    "            best_upscale = ups\n",
    "            best_downscale = down/100\n",
    "            print(f'upsample: {best_upscale}, downsample: {best_downscale}, f1: {best_f1}')\n",
    "\"\"\"\n",
    "# los mesjores valores que encontro para modificar las caracteristicas fueron:\n",
    "# ups 1, down, 0.59\n",
    "print()# para evitar que aparezca el codigo abajo como mensaje"
   ]
  },
  {
   "cell_type": "markdown",
   "metadata": {},
   "source": [
    "# <b>Paso 5</b> - Prueba Final"
   ]
  },
  {
   "cell_type": "code",
   "execution_count": 27,
   "metadata": {},
   "outputs": [
    {
     "data": {
      "text/html": [
       "<div>\n",
       "<style scoped>\n",
       "    .dataframe tbody tr th:only-of-type {\n",
       "        vertical-align: middle;\n",
       "    }\n",
       "\n",
       "    .dataframe tbody tr th {\n",
       "        vertical-align: top;\n",
       "    }\n",
       "\n",
       "    .dataframe thead th {\n",
       "        text-align: right;\n",
       "    }\n",
       "</style>\n",
       "<table border=\"1\" class=\"dataframe\">\n",
       "  <thead>\n",
       "    <tr style=\"text-align: right;\">\n",
       "      <th></th>\n",
       "      <th>train</th>\n",
       "      <th>valid</th>\n",
       "    </tr>\n",
       "  </thead>\n",
       "  <tbody>\n",
       "    <tr>\n",
       "      <th>recall</th>\n",
       "      <td>1.0</td>\n",
       "      <td>0.57461</td>\n",
       "    </tr>\n",
       "    <tr>\n",
       "      <th>presision</th>\n",
       "      <td>1.0</td>\n",
       "      <td>0.63861</td>\n",
       "    </tr>\n",
       "    <tr>\n",
       "      <th>f1</th>\n",
       "      <td>1.0</td>\n",
       "      <td>0.60492</td>\n",
       "    </tr>\n",
       "    <tr>\n",
       "      <th>roc</th>\n",
       "      <td>1.0</td>\n",
       "      <td>0.85750</td>\n",
       "    </tr>\n",
       "  </tbody>\n",
       "</table>\n",
       "</div>"
      ],
      "text/plain": [
       "           train    valid\n",
       "recall       1.0  0.57461\n",
       "presision    1.0  0.63861\n",
       "f1           1.0  0.60492\n",
       "roc          1.0  0.85750"
      ]
     },
     "execution_count": 27,
     "metadata": {},
     "output_type": "execute_result"
    }
   ],
   "source": [
    "test_feat[bigNums] = scaler.transform(test_feat[bigNums])\n",
    "model_results = model_validation(model, train_feat_bal, train_targ_bal, test_feat, test_targ)\n",
    "model_results"
   ]
  }
 ],
 "metadata": {
  "ExecuteTimeLog": [
   {
    "duration": 798,
    "start_time": "2025-01-04T19:34:14.753Z"
   },
   {
    "duration": 600,
    "start_time": "2025-01-04T19:34:15.553Z"
   },
   {
    "duration": 0,
    "start_time": "2025-01-04T19:34:16.155Z"
   },
   {
    "duration": 0,
    "start_time": "2025-01-04T19:34:16.156Z"
   },
   {
    "duration": 0,
    "start_time": "2025-01-04T19:34:16.157Z"
   },
   {
    "duration": 0,
    "start_time": "2025-01-04T19:34:16.158Z"
   },
   {
    "duration": 0,
    "start_time": "2025-01-04T19:34:16.160Z"
   },
   {
    "duration": 0,
    "start_time": "2025-01-04T19:34:16.162Z"
   },
   {
    "duration": 0,
    "start_time": "2025-01-04T19:34:16.163Z"
   },
   {
    "duration": 0,
    "start_time": "2025-01-04T19:34:16.165Z"
   },
   {
    "duration": 0,
    "start_time": "2025-01-04T19:34:16.166Z"
   },
   {
    "duration": 0,
    "start_time": "2025-01-04T19:34:16.167Z"
   },
   {
    "duration": 0,
    "start_time": "2025-01-04T19:34:16.169Z"
   },
   {
    "duration": 0,
    "start_time": "2025-01-04T19:34:16.170Z"
   },
   {
    "duration": 0,
    "start_time": "2025-01-04T19:34:16.171Z"
   },
   {
    "duration": 0,
    "start_time": "2025-01-04T19:34:16.172Z"
   },
   {
    "duration": 0,
    "start_time": "2025-01-04T19:34:16.174Z"
   },
   {
    "duration": 0,
    "start_time": "2025-01-04T19:34:16.176Z"
   },
   {
    "duration": 0,
    "start_time": "2025-01-04T19:34:16.177Z"
   },
   {
    "duration": 0,
    "start_time": "2025-01-04T19:34:16.178Z"
   },
   {
    "duration": 0,
    "start_time": "2025-01-04T19:34:16.212Z"
   },
   {
    "duration": 0,
    "start_time": "2025-01-04T19:34:16.213Z"
   },
   {
    "duration": 60,
    "start_time": "2025-01-04T19:34:26.971Z"
   },
   {
    "duration": 71,
    "start_time": "2025-01-04T19:34:29.938Z"
   },
   {
    "duration": 24,
    "start_time": "2025-01-04T19:34:43.311Z"
   },
   {
    "duration": 3,
    "start_time": "2025-01-04T19:34:45.710Z"
   },
   {
    "duration": 17,
    "start_time": "2025-01-04T19:34:45.716Z"
   },
   {
    "duration": 10,
    "start_time": "2025-01-04T19:34:45.735Z"
   },
   {
    "duration": 12,
    "start_time": "2025-01-04T19:34:45.748Z"
   },
   {
    "duration": 4,
    "start_time": "2025-01-04T19:34:45.761Z"
   },
   {
    "duration": 45,
    "start_time": "2025-01-04T19:34:45.767Z"
   },
   {
    "duration": 4,
    "start_time": "2025-01-04T19:34:45.814Z"
   },
   {
    "duration": 4,
    "start_time": "2025-01-04T19:34:45.820Z"
   },
   {
    "duration": 6,
    "start_time": "2025-01-04T19:34:45.826Z"
   },
   {
    "duration": 8,
    "start_time": "2025-01-04T19:34:45.836Z"
   },
   {
    "duration": 654,
    "start_time": "2025-01-04T19:34:45.845Z"
   },
   {
    "duration": 11,
    "start_time": "2025-01-04T19:34:46.501Z"
   },
   {
    "duration": 250,
    "start_time": "2025-01-04T19:34:46.514Z"
   },
   {
    "duration": 4,
    "start_time": "2025-01-04T19:34:46.765Z"
   },
   {
    "duration": 4,
    "start_time": "2025-01-04T19:34:46.770Z"
   },
   {
    "duration": 4,
    "start_time": "2025-01-04T19:34:46.775Z"
   },
   {
    "duration": 9,
    "start_time": "2025-01-04T19:34:46.781Z"
   },
   {
    "duration": 648,
    "start_time": "2025-01-04T19:34:46.792Z"
   },
   {
    "duration": 12,
    "start_time": "2025-01-04T19:34:47.442Z"
   },
   {
    "duration": 629,
    "start_time": "2025-01-04T19:34:47.456Z"
   },
   {
    "duration": 3,
    "start_time": "2025-01-04T19:34:48.087Z"
   },
   {
    "duration": 215,
    "start_time": "2025-01-04T19:34:48.092Z"
   }
  ],
  "kernelspec": {
   "display_name": "Python 3 (ipykernel)",
   "language": "python",
   "name": "python3"
  },
  "language_info": {
   "codemirror_mode": {
    "name": "ipython",
    "version": 3
   },
   "file_extension": ".py",
   "mimetype": "text/x-python",
   "name": "python",
   "nbconvert_exporter": "python",
   "pygments_lexer": "ipython3",
   "version": "3.9.19"
  },
  "toc": {
   "base_numbering": 1,
   "nav_menu": {},
   "number_sections": true,
   "sideBar": true,
   "skip_h1_title": true,
   "title_cell": "Table of Contents",
   "title_sidebar": "Contents",
   "toc_cell": false,
   "toc_position": {},
   "toc_section_display": true,
   "toc_window_display": false
  }
 },
 "nbformat": 4,
 "nbformat_minor": 2
}
